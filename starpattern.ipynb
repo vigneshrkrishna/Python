{
  "nbformat": 4,
  "nbformat_minor": 0,
  "metadata": {
    "colab": {
      "provenance": [],
      "authorship_tag": "ABX9TyNqTiW4dInbPRbgORQWYGNf",
      "include_colab_link": true
    },
    "kernelspec": {
      "name": "python3",
      "display_name": "Python 3"
    },
    "language_info": {
      "name": "python"
    }
  },
  "cells": [
    {
      "cell_type": "markdown",
      "metadata": {
        "id": "view-in-github",
        "colab_type": "text"
      },
      "source": [
        "<a href=\"https://colab.research.google.com/github/vigneshrkrishna/Python/blob/main/starpattern.ipynb\" target=\"_parent\"><img src=\"https://colab.research.google.com/assets/colab-badge.svg\" alt=\"Open In Colab\"/></a>"
      ]
    },
    {
      "cell_type": "code",
      "source": [
        "def star_pattern1(n):\n",
        "  for i in range(1,n+1):\n",
        "    for j in range(1,i+1):\n",
        "      print(\"* \",end=\"\")\n",
        "    print()\n",
        "n=int(input(\"Enter no of rows:\"))\n",
        "star_pattern1(n)"
      ],
      "metadata": {
        "colab": {
          "base_uri": "https://localhost:8080/"
        },
        "id": "osw-B7_lEFOv",
        "outputId": "3cc19fcb-d4eb-4e0f-da0d-5849eb63b3af"
      },
      "execution_count": null,
      "outputs": [
        {
          "output_type": "stream",
          "name": "stdout",
          "text": [
            "Enter no of rows:5\n",
            "* \n",
            "* * \n",
            "* * * \n",
            "* * * * \n",
            "* * * * * \n"
          ]
        }
      ]
    },
    {
      "cell_type": "code",
      "source": [
        "def star_pattern2(n):\n",
        "  for i in range(n, 0, -1):\n",
        "    for j in range(1,i+1):\n",
        "      print(\"*\",end=\" \")\n",
        "    print()\n",
        "n=int(input(\"Enter no of rows:\"))\n",
        "star_pattern2(n)"
      ],
      "metadata": {
        "colab": {
          "base_uri": "https://localhost:8080/"
        },
        "id": "muFSII9OIL8r",
        "outputId": "3932bd0b-0da7-4c74-884d-4049bf3ab96d"
      },
      "execution_count": null,
      "outputs": [
        {
          "output_type": "stream",
          "name": "stdout",
          "text": [
            "Enter no of rows:4\n",
            "* * * * \n",
            "* * * \n",
            "* * \n",
            "* \n"
          ]
        }
      ]
    },
    {
      "cell_type": "code",
      "source": [
        "side = int(input(\"Enter side of a square\"))\n",
        "for i in range(side):\n",
        "  for j in range(side):\n",
        "    print(\"* \",end=\"\")\n",
        "  print()"
      ],
      "metadata": {
        "colab": {
          "base_uri": "https://localhost:8080/"
        },
        "id": "i1be_RynIYt1",
        "outputId": "cd6ea230-bdf8-48f6-ca67-bf10053edc96"
      },
      "execution_count": null,
      "outputs": [
        {
          "output_type": "stream",
          "name": "stdout",
          "text": [
            "Enter side of a square4\n",
            "* * * * \n",
            "* * * * \n",
            "* * * * \n",
            "* * * * \n"
          ]
        }
      ]
    }
  ]
}